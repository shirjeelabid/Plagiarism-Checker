{
  "nbformat": 4,
  "nbformat_minor": 0,
  "metadata": {
    "colab": {
      "provenance": []
    },
    "kernelspec": {
      "name": "python3",
      "display_name": "Python 3"
    },
    "language_info": {
      "name": "python"
    },
    "accelerator": "GPU",
    "gpuClass": "standard"
  },
  "cells": [
    {
      "cell_type": "code",
      "source": [
        "!pip install pyfiglet"
      ],
      "metadata": {
        "colab": {
          "base_uri": "https://localhost:8080/"
        },
        "id": "FOcVKwbRnngv",
        "outputId": "397ec9f5-bf9a-4dd9-ba50-027b1cd26304"
      },
      "execution_count": 1,
      "outputs": [
        {
          "output_type": "stream",
          "name": "stdout",
          "text": [
            "Looking in indexes: https://pypi.org/simple, https://us-python.pkg.dev/colab-wheels/public/simple/\n",
            "Collecting pyfiglet\n",
            "  Downloading pyfiglet-0.8.post1-py2.py3-none-any.whl (865 kB)\n",
            "\u001b[2K     \u001b[90m━━━━━━━━━━━━━━━━━━━━━━━━━━━━━━━━━━━━━━\u001b[0m \u001b[32m865.8/865.8 kB\u001b[0m \u001b[31m50.4 MB/s\u001b[0m eta \u001b[36m0:00:00\u001b[0m\n",
            "\u001b[?25hInstalling collected packages: pyfiglet\n",
            "Successfully installed pyfiglet-0.8.post1\n"
          ]
        }
      ]
    },
    {
      "cell_type": "code",
      "source": [
        "import requests\n",
        "import json\n",
        "import pyfiglet"
      ],
      "metadata": {
        "id": "ddS66Lgans58"
      },
      "execution_count": 2,
      "outputs": []
    },
    {
      "cell_type": "code",
      "source": [
        "def check_plagiarism(text):\n",
        "  burp0_url = \"https://papersowl.com:443/plagiarism-checker-send-data\"\n",
        "  burp0_cookies = {\"PHPSESSID\": \"qjc72e3vvacbtn4jd1af1k5qn1\", \"first_interaction_user\": \"%7B%22referrer%22%3A%22https%3A%5C%2F%5C%2Fwww.google.com%5C%2F%22%2C%22internal_url%22%3A%22%5C%2Ffree-plagiarism-checker%22%2C%22utm_source%22%3Anull%2C%22utm_medium%22%3Anull%2C%22utm_campaign%22%3Anull%2C%22utm_content%22%3Anull%2C%22utm_term%22%3Anull%2C%22gclid%22%3Anull%2C%22msclkid%22%3Anull%2C%22adgroupid%22%3Anull%2C%22targetid%22%3Anull%2C%22appsflyer_id%22%3Anull%2C%22appsflyer_cuid%22%3Anull%2C%22cta_btn%22%3Anull%7D\", \"first_interaction_order\": \"%7B%22referrer%22%3A%22https%3A%5C%2F%5C%2Fwww.google.com%5C%2F%22%2C%22internal_url%22%3A%22%5C%2Ffree-plagiarism-checker%22%2C%22utm_source%22%3Anull%2C%22utm_medium%22%3Anull%2C%22utm_campaign%22%3Anull%2C%22utm_content%22%3Anull%2C%22utm_term%22%3Anull%2C%22gclid%22%3Anull%2C%22msclkid%22%3Anull%2C%22adgroupid%22%3Anull%2C%22targetid%22%3Anull%2C%22appsflyer_id%22%3Anull%2C%22appsflyer_cuid%22%3Anull%2C%22cta_btn%22%3Anull%7D\", \"affiliate_user\": \"a%3A3%3A%7Bs%3A9%3A%22affiliate%22%3Bs%3A9%3A%22papersowl%22%3Bs%3A6%3A%22medium%22%3Bs%3A9%3A%22papersowl%22%3Bs%3A8%3A%22campaign%22%3Bs%3A9%3A%22papersowl%22%3B%7D\", \"sbjs_migrations\": \"1418474375998%3D1\", \"sbjs_current_add\": \"fd%3D2022-05-24%2019%3A01%3A22%7C%7C%7Cep%3Dhttps%3A%2F%2Fpapersowl.com%2Ffree-plagiarism-checker%7C%7C%7Crf%3Dhttps%3A%2F%2Fwww.google.com%2F\", \"sbjs_first_add\": \"fd%3D2022-05-24%2019%3A01%3A22%7C%7C%7Cep%3Dhttps%3A%2F%2Fpapersowl.com%2Ffree-plagiarism-checker%7C%7C%7Crf%3Dhttps%3A%2F%2Fwww.google.com%2F\", \"sbjs_current\": \"typ%3Dorganic%7C%7C%7Csrc%3Dgoogle%7C%7C%7Cmdm%3Dorganic%7C%7C%7Ccmp%3D%28none%29%7C%7C%7Ccnt%3D%28none%29%7C%7C%7Ctrm%3D%28none%29\", \"sbjs_first\": \"typ%3Dorganic%7C%7C%7Csrc%3Dgoogle%7C%7C%7Cmdm%3Dorganic%7C%7C%7Ccmp%3D%28none%29%7C%7C%7Ccnt%3D%28none%29%7C%7C%7Ctrm%3D%28none%29\", \"sbjs_udata\": \"vst%3D1%7C%7C%7Cuip%3D%28none%29%7C%7C%7Cuag%3DMozilla%2F5.0%20%28Windows%20NT%206.3%3B%20Win64%3B%20x64%3B%20rv%3A100.0%29%20Gecko%2F20100101%20Firefox%2F100.0\", \"sbjs_session\": \"pgs%3D1%7C%7C%7Ccpg%3Dhttps%3A%2F%2Fpapersowl.com%2Ffree-plagiarism-checker\", \"_ga_788D7MTZB4\": \"GS1.1.1653411683.1.0.1653411683.0\", \"_ga\": \"GA1.1.1828699233.1653411683\", \"trustedsite_visit\": \"1\", \"trustedsite_tm_float_seen\": \"1\", \"AppleBannercookie_hide_header_banner\": \"1\", \"COOKIE_PLAGIARISM_CHECKER_TERMS\": \"1\", \"plagiarism_checker_progress_state\": \"1\"}\n",
        "  burp0_headers = {\"User-Agent\": \"Mozilla/5.0 (Windows NT 6.3; Win64; x64; rv:100.0) Gecko/20100101 Firefox/100.0\", \"Accept\": \"*/*\", \"Accept-Language\": \"ru-RU,ru;q=0.8,en-US;q=0.5,en;q=0.3\", \"Accept-Encoding\": \"gzip, deflate\", \"Referer\": \"https://papersowl.com/free-plagiarism-checker\", \"Content-Type\": \"application/x-www-form-urlencoded; charset=UTF-8\", \"X-Requested-With\": \"XMLHttpRequest\", \"Origin\": \"https://papersowl.com\", \"Dnt\": \"1\", \"Sec-Fetch-Dest\": \"empty\", \"Sec-Fetch-Mode\": \"no-cors\", \"Sec-Fetch-Site\": \"same-origin\", \"Pragma\": \"no-cache\", \"Cache-Control\": \"no-cache\", \"Te\": \"trailers\", \"Connection\": \"close\"}\n",
        "  burp0_data = {\"is_free\": \"false\", \"plagchecker_locale\": \"en\", \"product_paper_type\": \"1\", \"title\": '', \"text\": str(text)}\n",
        "  r = requests.post(burp0_url, headers=burp0_headers, cookies=burp0_cookies, data=burp0_data)\n",
        "  result = json.loads(r.text)\n",
        "  return str(result[\"words_count\"]), str(100 - float(result[\"percent\"])), str(result[\"matches\"])\n"
      ],
      "metadata": {
        "id": "ATzr-WmBnxaA"
      },
      "execution_count": 5,
      "outputs": []
    },
    {
      "cell_type": "code",
      "source": [
        "sentence = input(\"Input text to check plagiarism--->\")\n",
        "word_count, plagiarism_index, matches = check_plagiarism(sentence)\n",
        "\n",
        "print(\"\\nWord count : \" + word_count)\n",
        "print(\"\\nTurnitin index : \" + plagiarism_index)\n",
        "print(\"\\nMatches : \" + matches)"
      ],
      "metadata": {
        "colab": {
          "base_uri": "https://localhost:8080/"
        },
        "id": "Ab9qTLzzn4Ov",
        "outputId": "52815ecb-b7ad-4c84-b1a1-ad30c7563155"
      },
      "execution_count": 6,
      "outputs": [
        {
          "output_type": "stream",
          "name": "stdout",
          "text": [
            "Input text to check plagiarism--->The International Cricket Council is the global governing body of cricket. It was founded as the Imperial Cricket Conference in 1909 by representatives from Australia, England and South Africa. It was renamed as the International Cricket Conference in 1965, and took up its current name in 1987\n",
            "\n",
            "Word count : 47\n",
            "\n",
            "Turnitin index : 100.0\n",
            "\n",
            "Matches : [{'url': 'https://currentaffairs.adda247.com/international-cricket-councils-most-followed-international-sports-federation-on-social-media/', 'percent': '98.4', 'highlight': [['0', '45']]}, {'url': 'https://dashamlav.com/kb/world/international-organizations/icc/', 'percent': '98.4', 'highlight': [['0', '45']]}, {'url': 'https://testbook.com/question-answer/select-the-option-that-is-related-to-the-third-ter--609a3a56d871731451d97f0b', 'percent': '97.5', 'highlight': [['0', '5'], ['7', '46']]}, {'url': 'https://en.wikipedia.org/wiki/International_Cricket_Council', 'percent': '94.3', 'highlight': [['0', '10'], ['15', '46']]}, {'url': 'https://medium.com/@piyumimalisha8/cricket-4f6b67e0ca97', 'percent': '90.6', 'highlight': [['0', '2'], ['5', '10'], ['15', '46']]}, {'url': 'https://www.ezgovtjob.in/2022/03/iccinternational-cricket-council-awards.html', 'percent': '88.5', 'highlight': [['0', '3'], ['5', '5'], ['10', '10'], ['12', '32'], ['34', '46']]}, {'url': 'https://paidforarticles.com/how-cricket-became-the-most-popular-game-in-the-world-1-567402', 'percent': '59.0', 'highlight': [['0', '2'], ['9', '19'], ['33', '46']]}, {'url': 'https://kids.kiddle.co/International_Cricket_Council', 'percent': '53.3', 'highlight': [['0', '3'], ['5', '5'], ['10', '12'], ['15', '20'], ['29', '31'], ['33', '38']]}, {'url': 'https://wikiz.com/wiki/One_Day_International', 'percent': '30.7', 'highlight': [['0', '2'], ['5', '5'], ['7', '8'], ['10', '10'], ['15', '15'], ['17', '17'], ['24', '26']]}, {'url': 'https://edurev.in/question/3164572/The-International-Cricket-Council--ICC--has-its-headquarters-ina-Londonb-Dubaic-Sydneyd-BrusselsCorr', 'percent': '27.5', 'highlight': [['0', '5'], ['9', '10'], ['33', '35']]}, {'url': 'https://www.icc-cricket.com/about', 'percent': '16.8', 'highlight': [['2', '2'], ['4', '8'], ['10', '10']]}]\n"
          ]
        }
      ]
    },
    {
      "cell_type": "code",
      "source": [],
      "metadata": {
        "id": "_ZhW3XH-q9wS"
      },
      "execution_count": null,
      "outputs": []
    }
  ]
}